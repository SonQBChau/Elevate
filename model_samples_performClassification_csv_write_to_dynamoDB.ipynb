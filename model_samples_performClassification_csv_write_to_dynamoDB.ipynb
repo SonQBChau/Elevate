{
 "cells": [
  {
   "cell_type": "code",
   "execution_count": 1,
   "metadata": {},
   "outputs": [
    {
     "name": "stdout",
     "output_type": "stream",
     "text": [
      "WARNING:tensorflow:From /Users/nvvankad/Documents/Personal/Masters/CSCE 5214 - Software Development for AI/P4 Project/virtualEnv/venv/lib/python3.7/site-packages/tensorflow/python/compat/v2_compat.py:96: disable_resource_variables (from tensorflow.python.ops.variable_scope) is deprecated and will be removed in a future version.\n",
      "Instructions for updating:\n",
      "non-resource variables are not supported in the long term\n"
     ]
    }
   ],
   "source": [
    "from helpers import *\n",
    "import numpy as np \n",
    "import pandas as pd \n",
    "import matplotlib.pyplot as plt\n",
    "import seaborn as sns\n",
    "\n",
    "#Libraries to create the multiclass model\n",
    "from keras.models import Sequential\n",
    "from keras.layers import Dense\n",
    "from keras.wrappers.scikit_learn import KerasClassifier\n",
    "from keras.utils import np_utils\n",
    "#Import tensorflow and disable the v2 behavior and eager mode\n",
    "import tensorflow as tf\n",
    "tf.compat.v1.disable_eager_execution()\n",
    "tf.compat.v1.disable_v2_behavior()\n",
    "\n",
    "#Library to validate the model\n",
    "from sklearn.model_selection import cross_val_score, KFold, train_test_split\n",
    "from sklearn.preprocessing import LabelEncoder,MinMaxScaler\n",
    "from sklearn.pipeline import Pipeline\n",
    "from sklearn.metrics import confusion_matrix, accuracy_score"
   ]
  },
  {
   "cell_type": "code",
   "execution_count": 2,
   "metadata": {},
   "outputs": [],
   "source": [
    "df = pd.read_csv(\"data_moods.csv\")"
   ]
  },
  {
   "cell_type": "code",
   "execution_count": 3,
   "metadata": {},
   "outputs": [],
   "source": [
    "col_features = df.columns[6:-3]\n",
    "X= MinMaxScaler().fit_transform(df[col_features])\n",
    "X2 = np.array(df[col_features])\n",
    "Y = df['mood']"
   ]
  },
  {
   "cell_type": "code",
   "execution_count": 4,
   "metadata": {},
   "outputs": [
    {
     "data": {
      "text/html": [
       "<div>\n",
       "<style scoped>\n",
       "    .dataframe tbody tr th:only-of-type {\n",
       "        vertical-align: middle;\n",
       "    }\n",
       "\n",
       "    .dataframe tbody tr th {\n",
       "        vertical-align: top;\n",
       "    }\n",
       "\n",
       "    .dataframe thead th {\n",
       "        text-align: right;\n",
       "    }\n",
       "</style>\n",
       "<table border=\"1\" class=\"dataframe\">\n",
       "  <thead>\n",
       "    <tr style=\"text-align: right;\">\n",
       "      <th></th>\n",
       "      <th>mood</th>\n",
       "      <th>encode</th>\n",
       "    </tr>\n",
       "  </thead>\n",
       "  <tbody>\n",
       "    <tr>\n",
       "      <th>5</th>\n",
       "      <td>Calm</td>\n",
       "      <td>0</td>\n",
       "    </tr>\n",
       "    <tr>\n",
       "      <th>4</th>\n",
       "      <td>Energetic</td>\n",
       "      <td>1</td>\n",
       "    </tr>\n",
       "    <tr>\n",
       "      <th>0</th>\n",
       "      <td>Happy</td>\n",
       "      <td>2</td>\n",
       "    </tr>\n",
       "    <tr>\n",
       "      <th>1</th>\n",
       "      <td>Sad</td>\n",
       "      <td>3</td>\n",
       "    </tr>\n",
       "  </tbody>\n",
       "</table>\n",
       "</div>"
      ],
      "text/plain": [
       "        mood  encode\n",
       "5       Calm       0\n",
       "4  Energetic       1\n",
       "0      Happy       2\n",
       "1        Sad       3"
      ]
     },
     "execution_count": 4,
     "metadata": {},
     "output_type": "execute_result"
    }
   ],
   "source": [
    "encoder = LabelEncoder()\n",
    "encoder.fit(Y)\n",
    "encoded_y = encoder.transform(Y)\n",
    "\n",
    "\n",
    "#Convert to  dummy (Not necessary in my case)\n",
    "dummy_y = np_utils.to_categorical(encoded_y)\n",
    "\n",
    "X_train,X_test,Y_train,Y_test = train_test_split(X,encoded_y,test_size=0.2,random_state=15)\n",
    "\n",
    "target = pd.DataFrame({'mood':df['mood'].tolist(),'encode':encoded_y}).drop_duplicates().sort_values(['encode'],ascending=True)\n",
    "target"
   ]
  },
  {
   "cell_type": "code",
   "execution_count": 5,
   "metadata": {},
   "outputs": [],
   "source": [
    "def base_model():\n",
    "    #Create the model\n",
    "    model = Sequential()\n",
    "    #Add 1 layer with 8 nodes,input of 4 dim with relu function\n",
    "    model.add(Dense(8,input_dim=10,activation='relu'))\n",
    "    #Add 1 layer with output 3 and softmax function\n",
    "    model.add(Dense(4,activation='softmax'))\n",
    "    #Compile the model using sigmoid loss function and adam optim\n",
    "    model.compile(loss='categorical_crossentropy',optimizer='adam',\n",
    "                 metrics=['accuracy'])\n",
    "    return model"
   ]
  },
  {
   "cell_type": "code",
   "execution_count": 6,
   "metadata": {},
   "outputs": [],
   "source": [
    "estimator = KerasClassifier(build_fn=base_model,epochs=300,batch_size=200,verbose=0)\n"
   ]
  },
  {
   "cell_type": "code",
   "execution_count": 7,
   "metadata": {},
   "outputs": [
    {
     "name": "stdout",
     "output_type": "stream",
     "text": [
      "WARNING:tensorflow:From /Users/nvvankad/Documents/Personal/Masters/CSCE 5214 - Software Development for AI/P4 Project/virtualEnv/venv/lib/python3.7/site-packages/tensorflow/python/keras/engine/training_v1.py:2048: Model.state_updates (from tensorflow.python.keras.engine.training) is deprecated and will be removed in a future version.\n",
      "Instructions for updating:\n",
      "This property should not be used in TensorFlow 2.0, as updates are applied automatically.\n",
      "Baseline: 77.25% (6.25%)\n"
     ]
    }
   ],
   "source": [
    "#Evaluate the model using KFold cross validation\n",
    "kfold = KFold(n_splits=10,shuffle=True)\n",
    "results = cross_val_score(estimator,X,encoded_y,cv=kfold)\n",
    "print(\"Baseline: %.2f%% (%.2f%%)\" % (results.mean()*100,results.std()*100))"
   ]
  },
  {
   "cell_type": "code",
   "execution_count": 8,
   "metadata": {},
   "outputs": [
    {
     "name": "stdout",
     "output_type": "stream",
     "text": [
      "WARNING:tensorflow:From /Users/nvvankad/Documents/Personal/Masters/CSCE 5214 - Software Development for AI/P4 Project/virtualEnv/venv/lib/python3.7/site-packages/tensorflow/python/keras/wrappers/scikit_learn.py:241: Sequential.predict_classes (from tensorflow.python.keras.engine.sequential) is deprecated and will be removed after 2021-01-01.\n",
      "Instructions for updating:\n",
      "Please use instead:* `np.argmax(model.predict(x), axis=-1)`,   if your model does multi-class classification   (e.g. if it uses a `softmax` last-layer activation).* `(model.predict(x) > 0.5).astype(\"int32\")`,   if your model does binary classification   (e.g. if it uses a `sigmoid` last-layer activation).\n"
     ]
    }
   ],
   "source": [
    "estimator.fit(X_train,Y_train)\n",
    "y_preds = estimator.predict(X_test)"
   ]
  },
  {
   "cell_type": "code",
   "execution_count": 9,
   "metadata": {},
   "outputs": [
    {
     "data": {
      "image/png": "[encoded data removed]",
      "text/plain": [
       "<Figure size 432x288 with 2 Axes>"
      ]
     },
     "metadata": {
      "needs_background": "light"
     },
     "output_type": "display_data"
    },
    {
     "name": "stdout",
     "output_type": "stream",
     "text": [
      "Accuracy Score 0.7681159420289855\n"
     ]
    }
   ],
   "source": [
    "cm = confusion_matrix(Y_test,y_preds)\n",
    "ax = plt.subplot()\n",
    "sns.heatmap(cm,annot=True,ax=ax)\n",
    "\n",
    "labels = target['mood']\n",
    "ax.set_xlabel('Predicted labels')\n",
    "ax.set_ylabel('True labels')\n",
    "ax.set_title('Confusion Matrix')\n",
    "ax.xaxis.set_ticklabels(labels)\n",
    "ax.yaxis.set_ticklabels(labels)\n",
    "plt.show()\n",
    "\n",
    "print(\"Accuracy Score\",accuracy_score(Y_test,y_preds))"
   ]
  },
  {
   "cell_type": "code",
   "execution_count": 10,
   "metadata": {},
   "outputs": [],
   "source": [
    "import spotipy\n",
    "import time\n",
    "from IPython.core.display import clear_output\n",
    "from spotipy import SpotifyClientCredentials, util\n",
    "\n",
    "client_id='xxxxx'\n",
    "client_secret='xxxxx'\n",
    "# redirect_uri='your_url_to_redirect'\n",
    "# username = 'your_username_spotify_code'\n",
    "# scope = 'playlist-modify-public'\n",
    "\n",
    "#Credentials to access the Spotify Music Data\n",
    "manager = SpotifyClientCredentials(client_id,client_secret)\n",
    "sp = spotipy.Spotify(client_credentials_manager=manager)"
   ]
  },
  {
   "cell_type": "code",
   "execution_count": 11,
   "metadata": {},
   "outputs": [],
   "source": [
    "def get_songs_features(ids):\n",
    "\n",
    "    meta = sp.track(ids)\n",
    "    features = sp.audio_features(ids)\n",
    "\n",
    "    # meta\n",
    "    name = meta['name']\n",
    "    album = meta['album']['name']\n",
    "    artist = meta['album']['artists'][0]['name']\n",
    "    release_date = meta['album']['release_date']\n",
    "    length = meta['duration_ms']\n",
    "    popularity = meta['popularity']\n",
    "    ids =  meta['id']\n",
    "\n",
    "    # features\n",
    "    acousticness = features[0]['acousticness']\n",
    "    danceability = features[0]['danceability']\n",
    "    energy = features[0]['energy']\n",
    "    instrumentalness = features[0]['instrumentalness']\n",
    "    liveness = features[0]['liveness']\n",
    "    valence = features[0]['valence']\n",
    "    loudness = features[0]['loudness']\n",
    "    speechiness = features[0]['speechiness']\n",
    "    tempo = features[0]['tempo']\n",
    "    key = features[0]['key']\n",
    "    time_signature = features[0]['time_signature']\n",
    "\n",
    "    track = [name, album, artist, ids, release_date, popularity, length, danceability, acousticness,\n",
    "            energy, instrumentalness, liveness, valence, loudness, speechiness, tempo, key, time_signature]\n",
    "    columns = ['name','album','artist','id','release_date','popularity','length','danceability','acousticness','energy','instrumentalness',\n",
    "                'liveness','valence','loudness','speechiness','tempo','key','time_signature']\n",
    "    return track,columns"
   ]
  },
  {
   "cell_type": "code",
   "execution_count": 18,
   "metadata": {},
   "outputs": [],
   "source": [
    "# function that can predict mood of song Id.\n",
    "# Ex: SongId: https://open.spotify.com/track/54bFM56PmE4YLRnqpW6Tha\n",
    "\n",
    "def predict_mood(id_song):\n",
    "    #Join the model and the scaler in a Pipeline\n",
    "    pip = Pipeline([('minmaxscaler',MinMaxScaler()),('keras',KerasClassifier(build_fn=base_model,epochs=300,\n",
    "                                                                             batch_size=200,verbose=0))])\n",
    "    #Fit the Pipeline\n",
    "    pip.fit(X2,encoded_y)\n",
    "\n",
    "    #Obtain the features of the song\n",
    "    preds = get_songs_features(id_song)\n",
    "    #Pre-process the features to input the Model\n",
    "    preds_features = np.array(preds[0][6:-2]).reshape(-1,1).T\n",
    "\n",
    "    #Predict the features of the song\n",
    "    results = pip.predict(preds_features)\n",
    "\n",
    "    mood = np.array(target['mood'][target['encode']==int(results)])\n",
    "    name_song = preds[0][0]\n",
    "    artist = preds[0][2]\n",
    "    \n",
    "    return mood[0].upper()\n",
    "\n",
    "    #return print(\"{0} by {1} is a {2} song\".format(name_song,artist,mood[0].upper()))\n",
    "    #print(f\"{name_song} by {artist} is a {mood[0].upper()} song\")"
   ]
  },
  {
   "cell_type": "code",
   "execution_count": 28,
   "metadata": {},
   "outputs": [
    {
     "data": {
      "text/plain": [
       "'CALM'"
      ]
     },
     "execution_count": 28,
     "metadata": {},
     "output_type": "execute_result"
    }
   ],
   "source": [
    "predict_mood('0sStz9SBt5DOF7CynqUUwa')"
   ]
  },
  {
   "cell_type": "code",
   "execution_count": 14,
   "metadata": {},
   "outputs": [
    {
     "name": "stdout",
     "output_type": "stream",
     "text": [
      "track    : Dakiti\n",
      "trackId   : 47EiUVwUp4C9fGccaPuUCS\n",
      "audio    : https://p.scdn.co/mp3-preview/edd9bea2e66b14169f8bbfa45a78b6599b14160a?cid=9ba8560ce44540a8a907412d26cedc64\n",
      "cover art: https://i.scdn.co/image/ab67616d0000b27334c8199b0b3b3fb42b8a98a8\n",
      "\n",
      "track    : UN DIA (ONE DAY) (Feat. Tainy)\n",
      "trackId   : 0EhpEsp4L0oRGM0vmeaN5e\n",
      "audio    : Not Available..\n",
      "cover art: https://i.scdn.co/image/ab67616d0000b273312bd86cc2db22fde885ee73\n",
      "\n",
      "track    : Hasta Que Dios Diga\n",
      "trackId   : 06s3QtMJVXw1AJX3UfvZG1\n",
      "audio    : https://p.scdn.co/mp3-preview/0ab6784a19b1aaae24a7765085d9ff93a6e8274a?cid=9ba8560ce44540a8a907412d26cedc64\n",
      "cover art: https://i.scdn.co/image/ab67616d0000b2733cb695bfc1246bdf66161fce\n",
      "\n",
      "track    : Safaera\n",
      "trackId   : 2DEZmgHKAvm41k4J3R2E9Y\n",
      "audio    : https://p.scdn.co/mp3-preview/c67f59e5d3806b41f54f772ba8cc24410ed0a258?cid=9ba8560ce44540a8a907412d26cedc64\n",
      "cover art: https://i.scdn.co/image/ab67616d0000b273548f7ec52da7313de0c5e4a0\n",
      "\n",
      "track    : CÓMO SE SIENTE - Remix\n",
      "trackId   : 2tFwfmceQa1Y6nRPhYbEtC\n",
      "audio    : Not Available..\n",
      "cover art: https://i.scdn.co/image/ab67616d0000b273464c8458b8b0cfcfb655fbfc\n",
      "\n",
      "track    : Yo Perreo Sola\n",
      "trackId   : 0SqqAgdovOE24BzxIClpjw\n",
      "audio    : https://p.scdn.co/mp3-preview/3575ce15e6727094dc606c9d29e79f5830340172?cid=9ba8560ce44540a8a907412d26cedc64\n",
      "cover art: https://i.scdn.co/image/ab67616d0000b273548f7ec52da7313de0c5e4a0\n",
      "\n",
      "track    : LA CANCIÓN\n",
      "trackId   : 0fea68AdmYNygeTGI4RC18\n",
      "audio    : Not Available..\n",
      "cover art: https://i.scdn.co/image/ab67616d0000b2734891d9b25d8919448388f3bb\n",
      "\n",
      "track    : La Santa\n",
      "trackId   : 69vlMrzHwATKzupwNcUPyK\n",
      "audio    : https://p.scdn.co/mp3-preview/0fba2ae7b6f5588e301a6c0008914e1e864b6e66?cid=9ba8560ce44540a8a907412d26cedc64\n",
      "cover art: https://i.scdn.co/image/ab67616d0000b273548f7ec52da7313de0c5e4a0\n",
      "\n",
      "track    : Si Veo a Tu Mamá\n",
      "trackId   : 41wtwzCZkXwpnakmwJ239F\n",
      "audio    : https://p.scdn.co/mp3-preview/030b0d06fd4154482d5cb122b5c8c6678c86f666?cid=9ba8560ce44540a8a907412d26cedc64\n",
      "cover art: https://i.scdn.co/image/ab67616d0000b273548f7ec52da7313de0c5e4a0\n",
      "\n",
      "track    : La Difícil\n",
      "trackId   : 6NfrH0ANGmgBXyxgV2PeXt\n",
      "audio    : https://p.scdn.co/mp3-preview/b368a8887077ef0d389964973e2ee298f1b03948?cid=9ba8560ce44540a8a907412d26cedc64\n",
      "cover art: https://i.scdn.co/image/ab67616d0000b273548f7ec52da7313de0c5e4a0\n",
      "\n"
     ]
    }
   ],
   "source": [
    "#  \n",
    "# Ex: Spotify artist - https://open.spotify.com/artist/4q3ewBCX7sLwd24euuV69X\n",
    "\n",
    "import spotipy\n",
    "from spotipy.oauth2 import SpotifyClientCredentials\n",
    "\n",
    "lz_uri = 'spotify:artist:4q3ewBCX7sLwd24euuV69X'\n",
    "\n",
    "spotify = spotipy.Spotify(client_credentials_manager=manager)\n",
    "results = spotify.artist_top_tracks(lz_uri)\n",
    "\n",
    "for track in results['tracks'][:10]:\n",
    "    print('track    : ' + track['name'])\n",
    "    print('trackId   : ' + track['id'])\n",
    "    preview_url = track['preview_url']\n",
    "    if preview_url is None:\n",
    "        preview_url = 'Not Available..'\n",
    "    print('audio    : ' + preview_url)\n",
    "    print('cover art: ' + track['album']['images'][0]['url'])\n",
    "    print()"
   ]
  },
  {
   "cell_type": "code",
   "execution_count": 30,
   "metadata": {},
   "outputs": [],
   "source": [
    "# Get details for given playlist.\n",
    "# Ex: Top 50 playlist - https://open.spotify.com/playlist/37i9dQZEVXbLRQDuF5jeBp\n",
    "# Top 100 Playlist - https://open.spotify.com/playlist/1EVE9kOZ2i4171hNdvWVhU\n",
    "# Calm Playlist - https://open.spotify.com/playlist/11q1sTpWABVhGmIBcfDLtt\n",
    "# Peace Playlist - https://open.spotify.com/playlist/37i9dQZF1DXdCsscAsbRNz\n",
    "\n",
    "import spotipy\n",
    "from spotipy.oauth2 import SpotifyClientCredentials\n",
    "\n",
    "\n",
    "\n",
    "spotify = spotipy.Spotify(client_credentials_manager=manager)\n",
    "results = spotify.playlist('37i9dQZF1DXdCsscAsbRNz')\n",
    "\n",
    "trackIds = []\n",
    "preview_urls = []\n",
    "moods = []\n",
    "\n",
    "for item in results['tracks']['items']:\n",
    "    trackId = item['track']['id']\n",
    "    #print('track Id    : ' + trackId)\n",
    "    trackName = item['track']['name']\n",
    "    #print('track Name   : ' + trackName)\n",
    "    preview_url = item['track']['preview_url']\n",
    "    if preview_url is None:\n",
    "        preview_url = ''\n",
    "    else:\n",
    "        trackIds.append(trackId)\n",
    "        preview_urls.append(preview_url)\n",
    "        moods.append(predict_mood(trackId))\n",
    "        \n",
    "\n",
    "dict = {\"trackId\": trackIds, \"preview_url\": preview_urls, \"mood\": moods}\n",
    "df = pd.DataFrame(dict)\n",
    "df.to_csv(\"peace_playlist.csv\")\n",
    "    \n",
    "    #print('audio    : ' + preview_url)\n",
    "    #print()\n"
   ]
  },
  {
   "cell_type": "code",
   "execution_count": 31,
   "metadata": {},
   "outputs": [
    {
     "data": {
      "text/html": [
       "<div>\n",
       "<style scoped>\n",
       "    .dataframe tbody tr th:only-of-type {\n",
       "        vertical-align: middle;\n",
       "    }\n",
       "\n",
       "    .dataframe tbody tr th {\n",
       "        vertical-align: top;\n",
       "    }\n",
       "\n",
       "    .dataframe thead th {\n",
       "        text-align: right;\n",
       "    }\n",
       "</style>\n",
       "<table border=\"1\" class=\"dataframe\">\n",
       "  <thead>\n",
       "    <tr style=\"text-align: right;\">\n",
       "      <th></th>\n",
       "      <th>trackId</th>\n",
       "      <th>preview_url</th>\n",
       "      <th>mood</th>\n",
       "    </tr>\n",
       "  </thead>\n",
       "  <tbody>\n",
       "    <tr>\n",
       "      <th>0</th>\n",
       "      <td>0sStz9SBt5DOF7CynqUUwa</td>\n",
       "      <td>https://p.scdn.co/mp3-preview/d06a60b6870725b2...</td>\n",
       "      <td>CALM</td>\n",
       "    </tr>\n",
       "    <tr>\n",
       "      <th>1</th>\n",
       "      <td>2CVoj73sTbBrfBoQTEk7yO</td>\n",
       "      <td>https://p.scdn.co/mp3-preview/048a9d4f36df65d7...</td>\n",
       "      <td>CALM</td>\n",
       "    </tr>\n",
       "    <tr>\n",
       "      <th>2</th>\n",
       "      <td>0PWTD37PzDoCU9CunHUokE</td>\n",
       "      <td>https://p.scdn.co/mp3-preview/3a8894cf654c9e2b...</td>\n",
       "      <td>CALM</td>\n",
       "    </tr>\n",
       "    <tr>\n",
       "      <th>3</th>\n",
       "      <td>1HZa1EjZeJDzQ7r6NwX6jW</td>\n",
       "      <td>https://p.scdn.co/mp3-preview/01227d6fbe7cb513...</td>\n",
       "      <td>CALM</td>\n",
       "    </tr>\n",
       "    <tr>\n",
       "      <th>4</th>\n",
       "      <td>3OLr0gzUC0zLlWmpE6L0Ay</td>\n",
       "      <td>https://p.scdn.co/mp3-preview/d9e78cea02fc589f...</td>\n",
       "      <td>CALM</td>\n",
       "    </tr>\n",
       "    <tr>\n",
       "      <th>...</th>\n",
       "      <td>...</td>\n",
       "      <td>...</td>\n",
       "      <td>...</td>\n",
       "    </tr>\n",
       "    <tr>\n",
       "      <th>94</th>\n",
       "      <td>5pDZOftc3EvBBkJWfNXcNn</td>\n",
       "      <td>https://p.scdn.co/mp3-preview/bc5d31d30ec5819f...</td>\n",
       "      <td>CALM</td>\n",
       "    </tr>\n",
       "    <tr>\n",
       "      <th>95</th>\n",
       "      <td>6d87FW26ifnIhdCWr6vmIU</td>\n",
       "      <td>https://p.scdn.co/mp3-preview/03fbb9768b350832...</td>\n",
       "      <td>CALM</td>\n",
       "    </tr>\n",
       "    <tr>\n",
       "      <th>96</th>\n",
       "      <td>17511fdxVIh76Mw6Md4rzC</td>\n",
       "      <td>https://p.scdn.co/mp3-preview/e9f452aa116cb82f...</td>\n",
       "      <td>CALM</td>\n",
       "    </tr>\n",
       "    <tr>\n",
       "      <th>97</th>\n",
       "      <td>0PbMPORCi8wc3jlw1kipOm</td>\n",
       "      <td>https://p.scdn.co/mp3-preview/cb9e6edb63e049b0...</td>\n",
       "      <td>CALM</td>\n",
       "    </tr>\n",
       "    <tr>\n",
       "      <th>98</th>\n",
       "      <td>1M9b6vGSZUoRr8AKkRBs3b</td>\n",
       "      <td>https://p.scdn.co/mp3-preview/50de192fc0caff7d...</td>\n",
       "      <td>CALM</td>\n",
       "    </tr>\n",
       "  </tbody>\n",
       "</table>\n",
       "<p>99 rows × 3 columns</p>\n",
       "</div>"
      ],
      "text/plain": [
       "                   trackId                                        preview_url  \\\n",
       "0   0sStz9SBt5DOF7CynqUUwa  https://p.scdn.co/mp3-preview/d06a60b6870725b2...   \n",
       "1   2CVoj73sTbBrfBoQTEk7yO  https://p.scdn.co/mp3-preview/048a9d4f36df65d7...   \n",
       "2   0PWTD37PzDoCU9CunHUokE  https://p.scdn.co/mp3-preview/3a8894cf654c9e2b...   \n",
       "3   1HZa1EjZeJDzQ7r6NwX6jW  https://p.scdn.co/mp3-preview/01227d6fbe7cb513...   \n",
       "4   3OLr0gzUC0zLlWmpE6L0Ay  https://p.scdn.co/mp3-preview/d9e78cea02fc589f...   \n",
       "..                     ...                                                ...   \n",
       "94  5pDZOftc3EvBBkJWfNXcNn  https://p.scdn.co/mp3-preview/bc5d31d30ec5819f...   \n",
       "95  6d87FW26ifnIhdCWr6vmIU  https://p.scdn.co/mp3-preview/03fbb9768b350832...   \n",
       "96  17511fdxVIh76Mw6Md4rzC  https://p.scdn.co/mp3-preview/e9f452aa116cb82f...   \n",
       "97  0PbMPORCi8wc3jlw1kipOm  https://p.scdn.co/mp3-preview/cb9e6edb63e049b0...   \n",
       "98  1M9b6vGSZUoRr8AKkRBs3b  https://p.scdn.co/mp3-preview/50de192fc0caff7d...   \n",
       "\n",
       "    mood  \n",
       "0   CALM  \n",
       "1   CALM  \n",
       "2   CALM  \n",
       "3   CALM  \n",
       "4   CALM  \n",
       "..   ...  \n",
       "94  CALM  \n",
       "95  CALM  \n",
       "96  CALM  \n",
       "97  CALM  \n",
       "98  CALM  \n",
       "\n",
       "[99 rows x 3 columns]"
      ]
     },
     "execution_count": 31,
     "metadata": {},
     "output_type": "execute_result"
    }
   ],
   "source": [
    "df"
   ]
  },
  {
   "cell_type": "code",
   "execution_count": 59,
   "metadata": {},
   "outputs": [],
   "source": [
    "import boto3\n",
    "from boto3.dynamodb.conditions import Key\n",
    "\n",
    "def create_record(mood, songNumber, trackId, previewUrl):\n",
    "    user = {\n",
    "        'mood': mood,\n",
    "        'song_number': int(songNumber),\n",
    "        'track_id': trackId,\n",
    "        'preview_url': previewUrl\n",
    "    }\n",
    "    \n",
    "    dynamodb = boto3.resource('dynamodb')\n",
    "    \n",
    "    table = dynamodb.Table('SpotifyMoodClassifiedSongs')\n",
    "    \n",
    "    table.put_item(Item=user)"
   ]
  },
  {
   "cell_type": "code",
   "execution_count": 60,
   "metadata": {},
   "outputs": [],
   "source": [
    "import csv\n",
    "\n",
    "with open(\"ClassifiedSongs.csv\", \"r\") as f:\n",
    "    reader = csv.reader(f, delimiter=\",\")\n",
    "    for i, line in enumerate(reader):\n",
    "        if i == 0:\n",
    "            continue\n",
    "        #print('line[{}] = {}'.format(i, line))\n",
    "        create_record(line[3], line[0], line[1], line[2])"
   ]
  },
  {
   "cell_type": "code",
   "execution_count": null,
   "metadata": {},
   "outputs": [],
   "source": []
  }
 ],
 "metadata": {
  "kernelspec": {
   "display_name": "Python 3",
   "language": "python",
   "name": "python3"
  },
  "language_info": {
   "codemirror_mode": {
    "name": "ipython",
    "version": 3
   },
   "file_extension": ".py",
   "mimetype": "text/x-python",
   "name": "python",
   "nbconvert_exporter": "python",
   "pygments_lexer": "ipython3",
   "version": "3.7.1"
  }
 },
 "nbformat": 4,
 "nbformat_minor": 4
}
